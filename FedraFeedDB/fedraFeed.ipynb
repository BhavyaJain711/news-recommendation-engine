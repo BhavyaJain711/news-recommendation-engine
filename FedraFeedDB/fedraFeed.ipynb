{
 "cells": [
  {
   "cell_type": "markdown",
   "metadata": {},
   "source": [
    "Importing SQLite3 Library and creating a database"
   ]
  },
  {
   "cell_type": "code",
   "execution_count": 12,
   "metadata": {},
   "outputs": [],
   "source": [
    "import sqlite3\n",
    "\n",
    "con = sqlite3.connect(\"fedra_feed.db\")\n",
    "cur = con.cursor()"
   ]
  },
  {
   "cell_type": "markdown",
   "metadata": {},
   "source": [
    "Creating the USER, USER_NEWS_INFO AND NEWS_CLASSIFICATION tables"
   ]
  },
  {
   "cell_type": "code",
   "execution_count": 16,
   "metadata": {},
   "outputs": [
    {
     "ename": "OperationalError",
     "evalue": "table USER already exists",
     "output_type": "error",
     "traceback": [
      "\u001b[0;31m---------------------------------------------------------------------------\u001b[0m",
      "\u001b[0;31mOperationalError\u001b[0m                          Traceback (most recent call last)",
      "Cell \u001b[0;32mIn[16], line 1\u001b[0m\n\u001b[0;32m----> 1\u001b[0m cur\u001b[39m.\u001b[39;49mexecute(\u001b[39m\"\"\"\u001b[39;49m\u001b[39mCREATE TABLE USER(\u001b[39;49m\n\u001b[1;32m      2\u001b[0m \u001b[39m            user_id INTEGER PRIMARY KEY,\u001b[39;49m\n\u001b[1;32m      3\u001b[0m \u001b[39m            NAME VARCHAR,\u001b[39;49m\n\u001b[1;32m      4\u001b[0m \u001b[39m            EMAIL VARCHAR NOT NULL,\u001b[39;49m\n\u001b[1;32m      5\u001b[0m \u001b[39m            PASSWORD VARCHAR NOT NULL)\u001b[39;49m\u001b[39m\"\"\"\u001b[39;49m)\n\u001b[1;32m      8\u001b[0m cur\u001b[39m.\u001b[39mexecute(\u001b[39m\"\"\"\u001b[39m\u001b[39mCREATE TABLE USER_NEWS_INFO(\u001b[39m\n\u001b[1;32m      9\u001b[0m \u001b[39m            user_id INTEGER,\u001b[39m\n\u001b[1;32m     10\u001b[0m \u001b[39m            class_id INTEGER,\u001b[39m\n\u001b[1;32m     11\u001b[0m \u001b[39m            FOREIGN KEY (user_id) REFERENCES USER(user_id))\u001b[39m\u001b[39m\"\"\"\u001b[39m)\n\u001b[1;32m     15\u001b[0m cur\u001b[39m.\u001b[39mexecute(\u001b[39m\"\"\"\u001b[39m\u001b[39mCREATE TABLE NEWS_CLASSIFICATION(\u001b[39m\n\u001b[1;32m     16\u001b[0m \u001b[39m            class_id INTEGER PRIMARY KEY,\u001b[39m\n\u001b[1;32m     17\u001b[0m \u001b[39m            news_category VARCHAR)\u001b[39m\u001b[39m\"\"\"\u001b[39m)\n",
      "\u001b[0;31mOperationalError\u001b[0m: table USER already exists"
     ]
    }
   ],
   "source": [
    "cur.execute(\"\"\"CREATE TABLE USER(\n",
    "            user_id INTEGER PRIMARY KEY,\n",
    "            NAME VARCHAR,\n",
    "            EMAIL VARCHAR NOT NULL,\n",
    "            PASSWORD VARCHAR NOT NULL)\"\"\")\n",
    "\n",
    "\n",
    "cur.execute(\"\"\"CREATE TABLE USER_NEWS_INFO(\n",
    "            user_id INTEGER,\n",
    "            class_id INTEGER,\n",
    "            FOREIGN KEY (user_id) REFERENCES USER(user_id)\n",
    "            FORIEGN KEY (class_id) REFERENCES NEWS_CLASSIFICATION(class_id))\"\"\")\n",
    "\n",
    "\n",
    "\n",
    "\n",
    "cur.execute(\"\"\"CREATE TABLE NEWS_CLASSIFICATION(\n",
    "            class_id INTEGER PRIMARY KEY,\n",
    "            news_category VARCHAR)\"\"\")\n",
    "# category: sports, politics, entertainment etc\n",
    "\n",
    "cur.execute(\"\"\"CREATE TABLE ARTICLES(\n",
    "            news_id INTEGER\n",
    "            news_heading VARCHAR,\n",
    "            image_src VARCHAR,\n",
    "            news_article_link VARCHAR,\n",
    "            FORIEGN KEY (news_id) REFERENCES NEWS_CLASSIFICATION(class_id))\"\"\")"
   ]
  },
  {
   "cell_type": "markdown",
   "metadata": {},
   "source": [
    "Inserting sample data into the tables"
   ]
  },
  {
   "cell_type": "code",
   "execution_count": 14,
   "metadata": {},
   "outputs": [
    {
     "data": {
      "text/plain": [
       "<sqlite3.Cursor at 0x1258de540>"
      ]
     },
     "execution_count": 14,
     "metadata": {},
     "output_type": "execute_result"
    }
   ],
   "source": [
    "user_data = [\n",
    "    (1,\"Tanmay\",\"tanmaywani145@gmail.com\",\"tanmay123\"),\n",
    "    (2,\"Bhavya\",\"bhavya.sce21@sot.pdpu.ac.in\",\"bhavya123\"),\n",
    "]\n",
    "cur.executemany(\"INSERT INTO USER VALUES(?,?,?,?)\",user_data)"
   ]
  },
  {
   "cell_type": "markdown",
   "metadata": {},
   "source": [
    "Reading data from the table"
   ]
  },
  {
   "cell_type": "code",
   "execution_count": 15,
   "metadata": {},
   "outputs": [
    {
     "name": "stdout",
     "output_type": "stream",
     "text": [
      "[(1, 'Tanmay', 'tanmaywani145@gmail.com', 'tanmay123'), (2, 'Bhavya', 'bhavya.sce21@sot.pdpu.ac.in', 'bhavya123')]\n"
     ]
    }
   ],
   "source": [
    "res = cur.execute(\"Select * from user\")\n",
    "print(res.fetchall())"
   ]
  }
 ],
 "metadata": {
  "kernelspec": {
   "display_name": "Python 3",
   "language": "python",
   "name": "python3"
  },
  "language_info": {
   "codemirror_mode": {
    "name": "ipython",
    "version": 3
   },
   "file_extension": ".py",
   "mimetype": "text/x-python",
   "name": "python",
   "nbconvert_exporter": "python",
   "pygments_lexer": "ipython3",
   "version": "3.11.4"
  },
  "orig_nbformat": 4
 },
 "nbformat": 4,
 "nbformat_minor": 2
}
